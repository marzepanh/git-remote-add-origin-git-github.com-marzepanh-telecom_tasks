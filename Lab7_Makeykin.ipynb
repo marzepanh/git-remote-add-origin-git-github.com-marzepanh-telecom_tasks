{
  "cells": [
    {
      "cell_type": "code",
      "execution_count": null,
      "metadata": {
        "id": "Mwxos9Yj4wrQ"
      },
      "outputs": [],
      "source": [
        "import numpy as np\n",
        "PI2 = 2 * np.pi"
      ]
    },
    {
      "cell_type": "code",
      "execution_count": null,
      "metadata": {
        "colab": {
          "base_uri": "https://localhost:8080/"
        },
        "id": "OK1WoU2S5ZML",
        "outputId": "9253f8ea-6e77-4251-e675-2cd5872af2fd"
      },
      "outputs": [
        {
          "name": "stdout",
          "output_type": "stream",
          "text": [
            "[ 0.2+0.j  -1.2-0.2j  0.2+0.j  -1.2+0.2j]\n"
          ]
        }
      ],
      "source": [
        "ys = [-0.5, 0.1, 0.7, -0.1]\n",
        "hs = np.fft.fft(ys)\n",
        "print(hs)"
      ]
    },
    {
      "cell_type": "code",
      "execution_count": null,
      "metadata": {
        "id": "T352oXGB5boT"
      },
      "outputs": [],
      "source": [
        "def dft(ys):\n",
        "    N = len(ys)\n",
        "    ts = np.arange(N) / N\n",
        "    freqs = np.arange(N)\n",
        "    args = np.outer(ts, freqs)\n",
        "    M = np.exp(1j * PI2 * args)\n",
        "    amps = M.conj().transpose().dot(ys)\n",
        "    return amps"
      ]
    },
    {
      "cell_type": "code",
      "execution_count": null,
      "metadata": {
        "colab": {
          "base_uri": "https://localhost:8080/"
        },
        "id": "AxrfhFu65eZK",
        "outputId": "09d38c68-8f0f-44fb-f9ec-907bc359a198"
      },
      "outputs": [
        {
          "data": {
            "text/plain": [
              "5.864775846765962e-16"
            ]
          },
          "execution_count": 5,
          "metadata": {},
          "output_type": "execute_result"
        }
      ],
      "source": [
        "hs2 = dft(ys)\n",
        "np.sum(np.abs(hs - hs2))"
      ]
    },
    {
      "cell_type": "code",
      "execution_count": null,
      "metadata": {
        "id": "lEG_CR4a5fPq"
      },
      "outputs": [],
      "source": [
        "def fft_norec(ys):\n",
        "    N = len(ys)\n",
        "    He = np.fft.fft(ys[::2])\n",
        "    Ho = np.fft.fft(ys[1::2])\n",
        "    \n",
        "    ns = np.arange(N)\n",
        "    W = np.exp(-1j * PI2 * ns / N)\n",
        "    \n",
        "    return np.tile(He, 2) + W * np.tile(Ho, 2)"
      ]
    },
    {
      "cell_type": "code",
      "execution_count": null,
      "metadata": {
        "colab": {
          "base_uri": "https://localhost:8080/"
        },
        "id": "B098M4cr5idr",
        "outputId": "95cee6e6-bc89-4f99-a6d5-efa227c19f63"
      },
      "outputs": [
        {
          "data": {
            "text/plain": [
              "0.0"
            ]
          },
          "execution_count": 7,
          "metadata": {},
          "output_type": "execute_result"
        }
      ],
      "source": [
        "hs3 = fft_norec(ys)\n",
        "np.sum(np.abs(hs - hs3))"
      ]
    },
    {
      "cell_type": "code",
      "execution_count": null,
      "metadata": {
        "id": "snXPvLuu5kpg"
      },
      "outputs": [],
      "source": [
        "def fft(ys):\n",
        "    N = len(ys)\n",
        "    if N == 1:\n",
        "        return ys\n",
        "    \n",
        "    He = fft(ys[::2])\n",
        "    Ho = fft(ys[1::2])\n",
        "    \n",
        "    ns = np.arange(N)\n",
        "    W = np.exp(-1j * PI2 * ns / N)\n",
        "    \n",
        "    return np.tile(He, 2) + W * np.tile(Ho, 2)"
      ]
    },
    {
      "cell_type": "code",
      "execution_count": null,
      "metadata": {
        "colab": {
          "base_uri": "https://localhost:8080/"
        },
        "id": "U7bCFMxf5nuo",
        "outputId": "a3830de6-b33a-4624-c8d4-f41fc000a2b8"
      },
      "outputs": [
        {
          "data": {
            "text/plain": [
              "1.6653345369377348e-16"
            ]
          },
          "execution_count": 9,
          "metadata": {},
          "output_type": "execute_result"
        }
      ],
      "source": [
        "hs4 = fft(ys)\n",
        "np.sum(np.abs(hs - hs4))"
      ]
    },
    {
      "attachments": {},
      "cell_type": "markdown",
      "metadata": {
        "id": "5AsfuyhnSlqW"
      },
      "source": [
        "Эта реализация БПФ требует времени, пропорционального nlogn. Он также занимает место, пропорциональное nlogn , и тратит некоторое время на создание и копирование массивов. Его можно улучшить для запуска «на месте». В этом случае он не требует дополнительного места и тратит меньше времени на накладные расходы."
      ]
    }
  ],
  "metadata": {
    "colab": {
      "collapsed_sections": [],
      "name": "Lab7_Beglaryan.ipynb",
      "provenance": []
    },
    "kernelspec": {
      "display_name": "Python 3",
      "name": "python3"
    },
    "language_info": {
      "name": "python"
    }
  },
  "nbformat": 4,
  "nbformat_minor": 0
}
